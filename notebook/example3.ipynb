{
 "cells": [
  {
   "cell_type": "code",
   "execution_count": null,
   "metadata": {},
   "outputs": [],
   "source": []
  }
 ],
 "metadata": {
  "kernelspec": {
   "display_name": "Python 3.7.0 (conda)",
   "language": "python",
   "name": "python3"
  },
  "language_info": {
   "name": "python",
   "version": "3.7.0"
  },
  "orig_nbformat": 4,
  "vscode": {
   "interpreter": {
    "hash": "a89d2d60e5e73ead43a919883209db93eb3bdb3d103f35e902bcaa31d95bcf37"
   }
  }
 },
 "nbformat": 4,
 "nbformat_minor": 2
}
